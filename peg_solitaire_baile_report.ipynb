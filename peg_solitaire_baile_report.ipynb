{
 "cells": [
  {
   "cell_type": "markdown",
   "id": "8a023e30",
   "metadata": {},
   "source": [
    "# Proyecto: Búsqueda en Árbol — *Peg Solitaire* (Come Solo)\n",
    "\n",
    "Autores: **Juan Sebastian Abarca Hernandez y Juan Antonio Trenado Ballesteros**  \n",
    "Fecha: 24 de Septiembre de 2025\n",
    "\n",
    "**Repositorio base (fork de `baile`)**: https://github.com/SebastianAbarca25/baileProyecto1\n",
    "\n",
    "Este cuaderno documenta la **definición formal del problema**, los **experimentos** con búsqueda **no informada** (BFS, DFS) y **A\\***, la **comparación de resultados** y las **conclusiones**.\n"
   ]
  },
  {
   "cell_type": "markdown",
   "id": "ddaaf55f",
   "metadata": {
    "jp-MarkdownHeadingCollapsed": true
   },
   "source": [
    "## Instrucciones rápidas\n",
    "1. Ejecuta todas las celdas en orden. \n",
    "2. Para **probar otras configuraciones** (por ejemplo, tableros alternos o profundidad límite para DFS), modifica los parámetros en la sección de *Experimentos*.\n",
    "3. Al final hay una celda para **imprimir la secuencia de movimientos** y **reconstruir la solución**.\n",
    "\n",
    "### Citas y contexto\n",
    "- Librería base: `baile` — *Baisic Artificial Intelligence Library for Education* (GitHub: `https://github.com/kyriox/baile`).\n",
    "- Dominio: *Peg Solitaire* (tablero inglés de 33 posiciones, salto ortogonal, se retira la ficha sobre la que se salta; objetivo: una sola ficha, idealmente en el centro).\n"
   ]
  },
  {
   "cell_type": "markdown",
   "id": "87f4f2d2",
   "metadata": {},
   "source": [
    "## 1) Definición formal del problema\n",
    "**Estado**: representamos el tablero como una **matriz 7×7**, donde:\n",
    "- `-1` = fuera del tablero (celdas no válidas),\n",
    "- `0`  = vacío,\n",
    "- `1`  = hay ficha.\n",
    "\n",
    "Usamos el tablero inglés estándar (33 casillas válidas). El estado inicial tiene **todas las casillas válidas ocupadas salvo el centro**.\n",
    "\n",
    "**Operador/sucesor**: un movimiento válido es un **salto ortogonal** (arriba/abajo/izquierda/derecha) de una ficha `1` sobre otra `1` hacia una casilla vacía `0`, retirando la ficha intermedia. Formalmente, para una dirección `d∈{(±1,0),(0,±1)}` si `s[i,j]=1`, `s[i+di,j+dj]=1` y `s[i+2di,j+2dj]=0`, entonces se genera un nuevo estado con `s[i,j]=0`, `s[i+di,j+dj]=0`, `s[i+2di,j+2dj]=1`.\n",
    "\n",
    "**Función de meta**: `goal(s)` es verdadero si el **número de fichas** en `s` es `1`. (Podemos añadir la variante *meta central* que además exige que la ficha esté en el centro `(3,3)`.)\n",
    "\n",
    "**Heurística (admisible)**:  \n",
    "Usamos `h₁(s) = max(0, pegs(s) - 1)`.\n",
    "Justificación: cada movimiento **siempre elimina exactamente una ficha**, por lo que el **número mínimo de movimientos restantes** es al menos `pegs − 1`. Es una cota inferior y, por tanto, **admisible**.\n",
    "\n",
    "Adicionalmente incluimos una **heurística informativa no admisible** opcional para análisis comparativo: `h₂(s) = (pegs(s)-1) + λ·dist_min_al_centro(s)`, con `λ>0`, para influir el sesgo hacia el centro (solo para análisis, no garantiza optimalidad).\n"
   ]
  },
  {
   "cell_type": "code",
   "execution_count": null,
   "id": "3ba744e3",
   "metadata": {
    "name": "utils"
   },
   "outputs": [],
   "source": [
    "# Utilidades de tablero Peg Solitaire (7x7 inglés)\n",
    "from typing import List, Tuple, Iterable, Optional, Dict, Any\n",
    "\n",
    "Board = List[List[int]]  # -1 fuera, 0 vacío, 1 ficha\n",
    "Vec = Tuple[int,int]\n",
    "Move = Tuple[Tuple[int,int], Tuple[int,int]]  # (origen)->(destino)\n",
    "\n",
    "DIRS: List[Vec] = [(1,0),(-1,0),(0,1),(0,-1)]\n",
    "\n",
    "def english_board() -> Board:\n",
    "    # Plantilla del tablero inglés estándar (7x7 con 33 casillas válidas)\n",
    "    O, X = -1, 1\n",
    "    row = lambda a: [1 if c=='X' else (-1 if c=='O' else 0) for c in a]\n",
    "    # Usamos 'X' como casilla válida inicial con ficha; luego vaciamos el centro\n",
    "    layout = [\n",
    "        ['O','O','X','X','X','O','O'],\n",
    "        ['O','O','X','X','X','O','O'],\n",
    "        ['X','X','X','X','X','X','X'],\n",
    "        ['X','X','X','0','X','X','X'],  # marcaremos '0' para vacío inicial\n",
    "        ['X','X','X','X','X','X','X'],\n",
    "        ['O','O','X','X','X','O','O'],\n",
    "        ['O','O','X','X','X','O','O'],\n",
    "    ]\n",
    "    board: Board = []\n",
    "    for r in layout:\n",
    "        br = []\n",
    "        for c in r:\n",
    "            if c=='O': br.append(-1)\n",
    "            elif c=='0': br.append(0)\n",
    "            else: br.append(1)\n",
    "        board.append(br)\n",
    "    return board\n",
    "\n",
    "def clone(b: Board) -> Board:\n",
    "    return [row[:] for row in b]\n",
    "\n",
    "def in_bounds(b: Board, i:int, j:int) -> bool:\n",
    "    return 0 <= i < 7 and 0 <= j < 7 and b[i][j] != -1\n",
    "\n",
    "def count_pegs(b: Board) -> int:\n",
    "    return sum(1 for i in range(7) for j in range(7) if b[i][j]==1)\n",
    "\n",
    "def moves(b: Board) -> Iterable[Move]:\n",
    "    for i in range(7):\n",
    "        for j in range(7):\n",
    "            if b[i][j] != 1: continue\n",
    "            for di,dj in DIRS:\n",
    "                i1,j1 = i+di, j+dj\n",
    "                i2,j2 = i+2*di, j+2*dj\n",
    "                if in_bounds(b,i2,j2) and b[i1][j1]==1 and b[i2][j2]==0:\n",
    "                    yield ((i,j),(i2,j2))\n",
    "\n",
    "def apply_move(b: Board, m: Move) -> Board:\n",
    "    (i,j),(i2,j2) = m\n",
    "    di,dj = (i2-i)//2, (j2-j)//2\n",
    "    nb = clone(b)\n",
    "    nb[i][j] = 0\n",
    "    nb[i+di][j+dj] = 0\n",
    "    nb[i2][j2] = 1\n",
    "    return nb\n",
    "\n",
    "def is_goal_one(b: Board) -> bool:\n",
    "    return count_pegs(b) == 1\n",
    "\n",
    "def is_goal_one_center(b: Board) -> bool:\n",
    "    return count_pegs(b) == 1 and b[3][3]==1\n",
    "\n",
    "def h_pegs(b: Board) -> int:\n",
    "    return max(0, count_pegs(b) - 1)\n",
    "\n",
    "def dist_to_center_min(b: Board) -> int:\n",
    "    # distancia de Manhattan mínima de alguna ficha al centro (3,3)\n",
    "    D = []\n",
    "    for i in range(7):\n",
    "        for j in range(7):\n",
    "            if b[i][j]==1: D.append(abs(i-3)+abs(j-3))\n",
    "    return min(D) if D else 0\n",
    "\n",
    "def h_non_admissible(b: Board, lam: float = 0.25) -> float:\n",
    "    return (count_pegs(b) - 1) + lam * dist_to_center_min(b)\n",
    "\n",
    "def board_str(b: Board) -> str:\n",
    "    s=''\n",
    "    for i in range(7):\n",
    "        row=[]\n",
    "        for j in range(7):\n",
    "            row.append({-1:' ',0:'.',1:'o'}[b[i][j]])\n",
    "        s += ' '.join(row)+\"\\n\"\n",
    "    return s\n",
    "\n",
    "start = english_board()\n",
    "print('Estado inicial:')\n",
    "print(board_str(start))\n"
   ]
  },
  {
   "cell_type": "code",
   "execution_count": null,
   "id": "1f081b0c",
   "metadata": {
    "name": "search_algs"
   },
   "outputs": [],
   "source": []
  },
  {
   "cell_type": "markdown",
   "id": "d7627312",
   "metadata": {},
   "source": [
    "## 2) Experimentos: BFS, DFS y A*\n",
    "\n"
   ]
  },
  {
   "cell_type": "code",
   "execution_count": null,
   "id": "03cd3416",
   "metadata": {},
   "outputs": [],
   "source": []
  },
  {
   "cell_type": "code",
   "execution_count": null,
   "id": "7c312781",
   "metadata": {},
   "outputs": [],
   "source": []
  },
  {
   "cell_type": "code",
   "execution_count": null,
   "id": "1efbec39",
   "metadata": {},
   "outputs": [],
   "source": []
  },
  {
   "cell_type": "markdown",
   "id": "3d62c617",
   "metadata": {},
   "source": [
    "## 3) Reconstrucción de la solución y visualización paso a paso\n"
   ]
  },
  {
   "cell_type": "code",
   "execution_count": null,
   "id": "a3fb43b2",
   "metadata": {},
   "outputs": [],
   "source": []
  },
  {
   "cell_type": "markdown",
   "id": "01044854",
   "metadata": {},
   "source": [
    "## 4) Conclusiones y observaciones\n",
    "\n"
   ]
  }
 ],
 "metadata": {
  "kernelspec": {
   "display_name": "Python 3 (ipykernel)",
   "language": "python",
   "name": "python3"
  },
  "language_info": {
   "codemirror_mode": {
    "name": "ipython",
    "version": 3
   },
   "file_extension": ".py",
   "mimetype": "text/x-python",
   "name": "python",
   "nbconvert_exporter": "python",
   "pygments_lexer": "ipython3",
   "version": "3.12.3"
  }
 },
 "nbformat": 4,
 "nbformat_minor": 5
}
